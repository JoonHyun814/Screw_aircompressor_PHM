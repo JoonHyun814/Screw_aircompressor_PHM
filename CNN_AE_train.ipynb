{
 "cells": [
  {
   "cell_type": "code",
   "execution_count": 17,
   "metadata": {},
   "outputs": [],
   "source": [
    "import tensorflow as tf\n",
    "import numpy as np\n",
    "import pandas as pd\n",
    "import matplotlib.pyplot as plt\n",
    "from tensorflow.keras.layers import Input, Dense, LSTM, Dropout, RepeatVector\n",
    "from tensorflow.keras.models import Model,load_model"
   ]
  },
  {
   "cell_type": "code",
   "execution_count": 18,
   "metadata": {},
   "outputs": [],
   "source": [
    "# csv 파일의 데이터를 읽어서 원하는 값들만 추출 \n",
    "def Read_Usedata(path):\n",
    "    data = pd.read_csv(path)\n",
    "    Usedata = pd.concat([data['pres_cm_in'],data['pres_mr'],data['temp_cm_oil'],data['curr_u'],data['valv_1'],data['pres_cm_in'],data['pres_mr']], axis=1)\n",
    "    return Usedata\n",
    "\n",
    "# sliding window\n",
    "def sliding_window(data):\n",
    "    X_train = []\n",
    "    sequence_num = 100\n",
    "    step = 10\n",
    "    for i in range(0,len(data)-sequence_num,step):\n",
    "        X_train.append(data[i:i+sequence_num])\n",
    "    \n",
    "    X_train = np.array(X_train)\n",
    "    return X_train\n",
    "\n",
    "# normalization\n",
    "def normalization(data):\n",
    "    pres_cm_in_max = 1000\n",
    "    pres_cm_in_min = 0\n",
    "    pres_mr_max = 900\n",
    "    pres_mr_min = 600\n",
    "    temp_cm_oil_max = 120\n",
    "    temp_cm_oil_min = 20\n",
    "    curr_u_max = 30\n",
    "    curr_u_min = 0\n",
    "    data.iloc[:,0]  = (data.iloc[:,0] -pres_cm_in_min)/(pres_cm_in_max-pres_cm_in_min)\n",
    "    data.iloc[:,1]  = (data.iloc[:,1] -pres_mr_min)/(pres_mr_max-pres_mr_min)\n",
    "    data.iloc[:,2]  = (data.iloc[:,2] -temp_cm_oil_min)/(temp_cm_oil_max-temp_cm_oil_min)\n",
    "    data.iloc[:,3]  = (data.iloc[:,3] -curr_u_min)/(curr_u_max-curr_u_min)\n",
    "    data.iloc[:,5]  = (data.iloc[:,5] -pres_cm_in_min)/(pres_cm_in_max-pres_cm_in_min)\n",
    "    data.iloc[:,6]  = (data.iloc[:,6] -pres_mr_min)/(pres_mr_max-pres_mr_min)\n",
    "    return data\n",
    "\n",
    "# air compressor 가 동작할 때만 추출, 동작 2번하는 데이터는 제거\n",
    "def extraction(data):\n",
    "    data_1 = np.array(data['valv_1'])\n",
    "    data_1 = list(data_1)\n",
    "    a = []\n",
    "    if data_1[0] == 0:\n",
    "        mode = False\n",
    "    else:\n",
    "        mode = True\n",
    "\n",
    "    for i in range(len(data_1)):    \n",
    "        if mode == False:\n",
    "            if data_1[i:i+50] == [1]*50:\n",
    "                mode = not mode\n",
    "                a.append(i)\n",
    "        else:\n",
    "            if data_1[i:i+50] == [0]*50:\n",
    "                mode = not mode\n",
    "\n",
    "    new_data = []\n",
    "    for start_time in a:\n",
    "        try:\n",
    "            if data_1[start_time+500] == 1:\n",
    "                continue\n",
    "            new_data.append(data[start_time:start_time+500])\n",
    "        except:\n",
    "            pass\n",
    "\n",
    "    return np.array(new_data)\n",
    "\n",
    "# loss의 전체 평균을 구함\n",
    "def loss_mae(X_test):\n",
    "    X_pred = model.predict(X_test)\n",
    "    \n",
    "    loss_mae = []\n",
    "    for i in range(len(list(X_pred))):\n",
    "        loss = abs(X_test.reshape(X_test.shape[0],500,7)[i]-X_pred[i])\n",
    "        loss_mae.append(loss.sum(axis=1).sum(axis=0)/1000)\n",
    "    loss_mae = np.array(loss_mae)\n",
    "    \n",
    "    return loss_mae"
   ]
  },
  {
   "cell_type": "code",
   "execution_count": 19,
   "metadata": {},
   "outputs": [],
   "source": [
    "# 학습 데이터 가져오기\n",
    "train_datas = []\n",
    "for i in range(30):\n",
    "    train_datas.append(Read_Usedata('./data/205train/205train_cmsd_tc1_2020_12_%02d.csv' %(i+1)))"
   ]
  },
  {
   "cell_type": "code",
   "execution_count": 20,
   "metadata": {},
   "outputs": [
    {
     "data": {
      "text/plain": [
       "(4597, 500, 7)"
      ]
     },
     "execution_count": 20,
     "metadata": {},
     "output_type": "execute_result"
    }
   ],
   "source": [
    "#normalization 및 작동 부위 추출\n",
    "X_train = []\n",
    "for train_data in train_datas:\n",
    "    X_train_1 = normalization(train_data)\n",
    "    X_train_2 = extraction(X_train_1)\n",
    "    \n",
    "    for data in X_train_2:\n",
    "        X_train.append(data)\n",
    "    \n",
    "X_train = np.array(X_train)\n",
    "\n",
    "#nan 값 제거\n",
    "X_train_new = np.delete(X_train, list(np.where(np.isnan(X_train)==True)[0]),0)\n",
    "X_train_new.shape"
   ]
  },
  {
   "cell_type": "code",
   "execution_count": 22,
   "metadata": {},
   "outputs": [
    {
     "name": "stdout",
     "output_type": "stream",
     "text": [
      "Model: \"model_1\"\n",
      "_________________________________________________________________\n",
      "Layer (type)                 Output Shape              Param #   \n",
      "=================================================================\n",
      "input_2 (InputLayer)         [(None, 500, 7, 1)]       0         \n",
      "_________________________________________________________________\n",
      "conv2d_2 (Conv2D)            (None, 497, 4, 6)         102       \n",
      "_________________________________________________________________\n",
      "conv2d_3 (Conv2D)            (None, 494, 1, 12)        1164      \n",
      "_________________________________________________________________\n",
      "flatten_1 (Flatten)          (None, 5928)              0         \n",
      "_________________________________________________________________\n",
      "dense_2 (Dense)              (None, 512)               3035648   \n",
      "_________________________________________________________________\n",
      "dense_3 (Dense)              (None, 64)                32832     \n",
      "_________________________________________________________________\n",
      "repeat_vector_1 (RepeatVecto (None, 500, 64)           0         \n",
      "_________________________________________________________________\n",
      "lstm_5 (LSTM)                (None, 500, 128)          98816     \n",
      "_________________________________________________________________\n",
      "lstm_6 (LSTM)                (None, 500, 64)           49408     \n",
      "_________________________________________________________________\n",
      "lstm_7 (LSTM)                (None, 500, 32)           12416     \n",
      "_________________________________________________________________\n",
      "lstm_8 (LSTM)                (None, 500, 20)           4240      \n",
      "_________________________________________________________________\n",
      "lstm_9 (LSTM)                (None, 500, 7)            784       \n",
      "=================================================================\n",
      "Total params: 3,235,410\n",
      "Trainable params: 3,235,410\n",
      "Non-trainable params: 0\n",
      "_________________________________________________________________\n"
     ]
    }
   ],
   "source": [
    "# 모델 제작\n",
    "def autoencoder_model(X):    \n",
    "    x = tf.keras.layers.Input(shape=[500,7,1])\n",
    "    \n",
    "    H = tf.keras.layers.Conv2D(6, kernel_size = 4, activation = 'sigmoid')(x)\n",
    "    H = tf.keras.layers.Conv2D(12, kernel_size = 4, activation = 'sigmoid')(H)\n",
    "    \n",
    "    H = tf.keras.layers.Flatten()(H)\n",
    "    H = tf.keras.layers.Dense(512, activation = 'sigmoid')(H)\n",
    "    H = tf.keras.layers.Dense(64, activation = 'sigmoid')(H)\n",
    "    \n",
    "    H = RepeatVector(X.shape[1])(H)\n",
    "    H = LSTM(128,activation = 'sigmoid', return_sequences = True)(H)\n",
    "    H = LSTM(64,activation = 'sigmoid', return_sequences = True)(H)\n",
    "    H = LSTM(32,activation = 'sigmoid', return_sequences = True)(H)\n",
    "    H = LSTM(20,activation = 'sigmoid', return_sequences = True)(H)\n",
    "    Y = LSTM(7,activation = 'sigmoid', return_sequences = True)(H)\n",
    "    \n",
    "    model = Model(x, Y)\n",
    "    \n",
    "    return model\n",
    "\n",
    "model = autoencoder_model(X_train_new)\n",
    "\n",
    "adam = tf.keras.optimizers.Adam(lr=0.001, beta_1=0.9, beta_2=0.999, epsilon=None, decay=0.0, amsgrad=False)\n",
    "model.compile(optimizer=adam,loss='mae')\n",
    "model.summary()"
   ]
  },
  {
   "cell_type": "code",
   "execution_count": 23,
   "metadata": {
    "scrolled": true
   },
   "outputs": [
    {
     "name": "stdout",
     "output_type": "stream",
     "text": [
      "Epoch 1/20\n",
      "219/219 [==============================] - 124s 542ms/step - loss: 0.3128 - val_loss: 0.2756\n",
      "Epoch 2/20\n",
      "219/219 [==============================] - 122s 556ms/step - loss: 0.2628 - val_loss: 0.2703\n",
      "Epoch 3/20\n",
      "219/219 [==============================] - 119s 542ms/step - loss: 0.2447 - val_loss: 0.1814\n",
      "Epoch 4/20\n",
      "219/219 [==============================] - 118s 537ms/step - loss: 0.1712 - val_loss: 0.1648\n",
      "Epoch 5/20\n",
      "219/219 [==============================] - 118s 539ms/step - loss: 0.1544 - val_loss: 0.1446\n",
      "Epoch 6/20\n",
      "219/219 [==============================] - 121s 552ms/step - loss: 0.1483 - val_loss: 0.1808\n",
      "Epoch 7/20\n",
      "219/219 [==============================] - 118s 539ms/step - loss: 0.1465 - val_loss: 0.1583\n",
      "Epoch 8/20\n",
      "219/219 [==============================] - 129s 591ms/step - loss: 0.1485 - val_loss: 0.1447\n",
      "Epoch 9/20\n",
      "219/219 [==============================] - 127s 580ms/step - loss: 0.1438 - val_loss: 0.1806\n",
      "Epoch 10/20\n",
      "219/219 [==============================] - 127s 579ms/step - loss: 0.1437 - val_loss: 0.1343\n",
      "Epoch 11/20\n",
      "219/219 [==============================] - 120s 549ms/step - loss: 0.1450 - val_loss: 0.1543\n",
      "Epoch 12/20\n",
      "219/219 [==============================] - 209s 958ms/step - loss: 0.1413 - val_loss: 0.1776\n",
      "Epoch 13/20\n",
      "219/219 [==============================] - 187s 849ms/step - loss: 0.1312 - val_loss: 0.0894\n",
      "Epoch 14/20\n",
      "219/219 [==============================] - 204s 931ms/step - loss: 0.0468 - val_loss: 0.0674\n",
      "Epoch 15/20\n",
      "219/219 [==============================] - 209s 955ms/step - loss: 0.0383 - val_loss: 0.0608\n",
      "Epoch 16/20\n",
      "219/219 [==============================] - 202s 924ms/step - loss: 0.0376 - val_loss: 0.0582\n",
      "Epoch 17/20\n",
      "219/219 [==============================] - 204s 929ms/step - loss: 0.0345 - val_loss: 0.0569\n",
      "Epoch 18/20\n",
      "219/219 [==============================] - 369s 2s/step - loss: 0.0327 - val_loss: 0.0559\n",
      "Epoch 19/20\n",
      "219/219 [==============================] - 368s 2s/step - loss: 0.0323 - val_loss: 0.0573\n",
      "Epoch 20/20\n",
      "219/219 [==============================] - 367s 2s/step - loss: 0.0313 - val_loss: 0.0536\n"
     ]
    },
    {
     "data": {
      "text/plain": [
       "<tensorflow.python.keras.callbacks.History at 0x19b84b5ca60>"
      ]
     },
     "execution_count": 23,
     "metadata": {},
     "output_type": "execute_result"
    }
   ],
   "source": [
    "# 모델 훈련\n",
    "model.fit(X_train_new.reshape(X_train_new.shape[0],500,7,1),X_train_new,epochs = 20, batch_size = 20, validation_split = 0.05)"
   ]
  },
  {
   "cell_type": "code",
   "execution_count": 31,
   "metadata": {},
   "outputs": [],
   "source": [
    "model.save(\"CNN_AE_1.h5\")"
   ]
  },
  {
   "cell_type": "code",
   "execution_count": 26,
   "metadata": {},
   "outputs": [
    {
     "data": {
      "image/png": "[encoded data removed]",
      "text/plain": [
       "<Figure size 1584x1080 with 1 Axes>"
      ]
     },
     "metadata": {
      "needs_background": "light"
     },
     "output_type": "display_data"
    }
   ],
   "source": [
    "loss_mae_n = loss_mae(X_train_new)\n",
    "\n",
    "plt.gcf().set_size_inches(22, 15)\n",
    "plt.hist(loss_mae_n, bins='auto')  \n",
    "plt.title(\"Normal data loss histogram\")\n",
    "plt.show()"
   ]
  },
  {
   "cell_type": "code",
   "execution_count": 27,
   "metadata": {},
   "outputs": [
    {
     "data": {
      "text/plain": [
       "(7,)"
      ]
     },
     "execution_count": 27,
     "metadata": {},
     "output_type": "execute_result"
    }
   ],
   "source": [
    "# annomaly score 용 mean 값\n",
    "X_pred = model.predict(X_train_new)\n",
    "loss = X_pred-X_train_new.reshape(X_train_new.shape[0],500,7)\n",
    "loss_mean = np.mean(loss,axis=1)\n",
    "loss_mean = np.delete(loss_mean,np.array(np.where(loss_mae_n>0.4)),0)\n",
    "loss_mean.shape\n",
    "MEAN = np.mean(loss_mean,axis=0)\n",
    "MEAN.shape"
   ]
  },
  {
   "cell_type": "code",
   "execution_count": 28,
   "metadata": {},
   "outputs": [
    {
     "data": {
      "text/plain": [
       "(7, 7)"
      ]
     },
     "execution_count": 28,
     "metadata": {},
     "output_type": "execute_result"
    }
   ],
   "source": [
    "# 공분산\n",
    "VAR = np.cov(np.array(loss_mean-MEAN).T)\n",
    "VAR.shape"
   ]
  },
  {
   "cell_type": "code",
   "execution_count": 30,
   "metadata": {},
   "outputs": [],
   "source": [
    "import pickle\n",
    "\n",
    "with open('CNN_AE_1_MEAN.pickle', 'wb') as f:\n",
    "    pickle.dump(MEAN, f, pickle.HIGHEST_PROTOCOL)\n",
    "    \n",
    "with open('CNN_AE_1_VAR.pickle', 'wb') as f:\n",
    "    pickle.dump(VAR, f, pickle.HIGHEST_PROTOCOL)"
   ]
  },
  {
   "cell_type": "code",
   "execution_count": null,
   "metadata": {},
   "outputs": [],
   "source": []
  }
 ],
 "metadata": {
  "kernelspec": {
   "display_name": "Python 3",
   "language": "python",
   "name": "python3"
  },
  "language_info": {
   "codemirror_mode": {
    "name": "ipython",
    "version": 3
   },
   "file_extension": ".py",
   "mimetype": "text/x-python",
   "name": "python",
   "nbconvert_exporter": "python",
   "pygments_lexer": "ipython3",
   "version": "3.8.5"
  }
 },
 "nbformat": 4,
 "nbformat_minor": 4
}
